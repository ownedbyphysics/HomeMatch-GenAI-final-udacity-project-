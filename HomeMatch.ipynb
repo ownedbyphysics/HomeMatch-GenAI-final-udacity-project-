{
 "cells": [
  {
   "cell_type": "code",
   "execution_count": 1,
   "id": "6554fd4c",
   "metadata": {},
   "outputs": [],
   "source": [
    "import chromadb\n",
    "import pandas as pd\n",
    "from langchain import LLMChain\n",
    "from langchain_openai import OpenAI\n",
    "from langchain.chains import RetrievalQA\n",
    "from openai import OpenAI as openAI_client\n",
    "from langchain.prompts import PromptTemplate\n",
    "from langchain_openai import OpenAIEmbeddings\n",
    "from chromadb.utils import embedding_functions\n",
    "from langchain_community.vectorstores import FAISS\n",
    "from langchain_text_splitters import CharacterTextSplitter\n",
    "from langchain_community.document_loaders import TextLoader\n",
    "from langchain.chains.question_answering import load_qa_chain\n",
    "from langchain_community.document_loaders import DataFrameLoader\n",
    "\n",
    "\n",
    "api_key = \"\""
   ]
  },
  {
   "cell_type": "markdown",
   "id": "de4c306f-417d-4bf7-9280-a10a6482d3fc",
   "metadata": {},
   "source": [
    "<h2> Chapter 1: Generating Real Estate Listings"
   ]
  },
  {
   "cell_type": "code",
   "execution_count": 2,
   "id": "a50f11a4",
   "metadata": {},
   "outputs": [],
   "source": [
    "model = 'gpt-3.5-turbo-instruct'\n",
    "temperature = 1\n",
    "llm = OpenAI(model=model, temperature=temperature, max_tokens = 3700, openai_api_key=api_key)"
   ]
  },
  {
   "cell_type": "code",
   "execution_count": 3,
   "id": "e72d0771",
   "metadata": {},
   "outputs": [],
   "source": [
    "house_reviews_template_prompt = \"\"\"\n",
    "generate reviews for luxury houses in an imaginary city called 'Uda-City'. Come up with names of neighborhoods, details about the neighborhood (busy,\n",
    "quiet, near malls, transport), sizes of the houses, number of bathrooms, number of bedrooms, year built and a \n",
    "general description of available facilities (for example pool, barbeque, yard, view etc). The bathrooms should not be more than 3.\n",
    "Important is to also set a price for sale for every house example.\n",
    "\n",
    "Every time a review finishes you need to provide the word \" End \" before starting the next review\n",
    "\n",
    "This is an example: \n",
    "\n",
    "This stunning 5 bedroom, 6 bathroom mansion in the prestigious Beverly Hills neighborhood is the epitome of luxury living. Built in 2018, this modern masterpiece boasts high-end finishes and top-of-the-line appliances. The spacious backyard features a sparkling pool, perfect for cooling off on hot summer days, and a built-in barbeque for entertaining guests. \n",
    "With breathtaking views of the city, this house truly has it all at a price of $750.000. End \n",
    "Welcome to the charming neighborhood of Willow Creek, where this cozy 3 bedroom, 2 bathroom home awaits you. End\n",
    "\n",
    "\n",
    "Generate {number} reviews in total.\n",
    "\"\"\""
   ]
  },
  {
   "cell_type": "code",
   "execution_count": 4,
   "id": "da7956be",
   "metadata": {},
   "outputs": [],
   "source": [
    "generate_reviews = PromptTemplate.from_template(house_reviews_template_prompt)"
   ]
  },
  {
   "cell_type": "code",
   "execution_count": 5,
   "id": "28a1cd5e-2cf2-43b6-a988-96c76848ecb1",
   "metadata": {},
   "outputs": [
    {
     "name": "stderr",
     "output_type": "stream",
     "text": [
      "C:\\Anaconda3\\envs\\udacity\\lib\\site-packages\\langchain_core\\_api\\deprecation.py:117: LangChainDeprecationWarning: The function `__call__` was deprecated in LangChain 0.1.7 and will be removed in 0.2.0. Use invoke instead.\n",
      "  warn_deprecated(\n"
     ]
    },
    {
     "name": "stdout",
     "output_type": "stream",
     "text": [
      "\n",
      "Looking for the perfect luxury home in Uda-City? Look no further than the exclusive neighborhood of Golden Heights. This sprawling 6 bedroom, 3 bathroom mansion was built in 2019 and features state-of-the-art amenities and breathtaking views of the city. The spacious backyard offers a pool, outdoor kitchen, and a private yard for your enjoyment. Priced at $1.2 million, this is luxury living at its finest. End\n",
      "\n",
      "Tired of the hustle and bustle of city life? Look no further than the quiet neighborhood of Serenity Valley. This 4 bedroom, 2 bathroom home provides a peaceful retreat with its tranquil surroundings and stunning mountain views. Built in 2015, this modern home boasts high-end finishes and a spacious backyard with a fire pit. At a price of $800,000, this is the perfect luxury escape. End\n",
      "\n",
      "Located in the heart of Uda-City, the bustling neighborhood of Downtown Heights offers the ultimate urban living experience. This 2 bedroom, 2 bathroom loft-style condo offers sleek and modern design, along with access to a rooftop pool and lounge area. Built in 2017, this upscale unit is perfect for those who want to be in the center of it all. Priced at $650,000, this is city living at its finest. End\n",
      "\n",
      "Nestled in the prestigious neighborhood of Belle Vista, this exquisite 7 bedroom, 3 bathroom estate is a true masterpiece. Built in 2020, this home boasts luxurious features such as a home theater, wine cellar, and a private elevator. The backyard showcases a stunning infinity pool and a built-in barbeque. Priced at $2.5 million, this is the epitome of luxury living in Uda-City. End\n",
      "\n",
      "Escape to the tranquil neighborhood of Green Valley, where this charming 4 bedroom, 2 bathroom home awaits you. Built in 2016, this home features a beautiful backyard with a pool and barbeque area, perfect for outdoor entertaining. The quiet surroundings and lush greenery make this a true oasis. Priced at $950,000, this is luxury living at its best. End\n",
      "\n",
      "Looking for a modern and stylish home in Uda-City? Look no further than the trendy neighborhood of Downtown District. This sleek and sophisticated 3 bedroom, 2 bathroom apartment features high-end finishes and stunning views of the city skyline. Built in 2018, this unit also offers access to a rooftop pool and lounge. Priced at $750,000, this is the perfect blend of luxury and convenience. End\n",
      "\n",
      "Experience the best of both worlds in the neighborhood of Riverside Retreat. This 5 bedroom, 3 bathroom home offers both stunning river views and easy access to the city. Built in 2017, this home boasts a spacious backyard with a pool and barbeque area, perfect for enjoying the outdoors. Priced at $1.2 million, this is luxury living at its finest. End\n",
      "\n",
      "Nestled in the quiet and elegant neighborhood of Lakeview Estates, this charming 3 bedroom, 2 bathroom home is the perfect family retreat. Built in 2015, this home features a cozy fireplace in the living room and a private backyard with a built-in fire pit. The neighborhood also offers a community pool and park. This home is priced at $850,000, making it the perfect blend of luxury and affordability. End\n",
      "\n",
      "Looking for a home with a view? Look no further than the prestigious neighborhood of Sunset Ridge. This elegant 4 bedroom, 2 bathroom home boasts breathtaking views of the city and mountains. Built in 2019, this home also features a spacious backyard with a pool and barbeque area, perfect for outdoor entertaining. Priced at $1.5 million, this is luxury living at its finest. End\n",
      "\n",
      "Welcome to the luxurious neighborhood of Crystal Heights, where this magnificent 6 bedroom, 3 bathroom estate awaits you. Built in 2020, this home offers top-of-the-line amenities such as a home theater, wine cellar, and a private elevator. The backyard features a stunning pool and spa, and a built-in barbeque for outdoor gatherings. Priced at $2.7 million, this is the epitome of luxury living in Uda-City. End\n",
      "\n",
      "Escape to the serene neighborhood of Oakwood Meadows, where this charming 3 bedroom, 2 bathroom home is waiting for you. Built in 2016, this home features a cozy fireplace in the living room and a private backyard with a patio and fire pit. The neighborhood also offers access to a community pool and park. Priced at $800,000, this is the perfect blend of luxury and affordability. End\n",
      "\n",
      "Experience the best of luxury living in the exclusive neighborhood of Skyline Heights. This stunning 5 bedroom, 3 bathroom mansion was built in 2018 and boasts high-end finishes and top-of-the-line appliances. The spacious backyard features a sparkling pool, perfect for cooling off on hot summer days, and a built-in barbeque for entertaining guests. With breathtaking views of the city, this house truly has it all at a price of $1.1 million. End\n"
     ]
    }
   ],
   "source": [
    "response = llm(generate_reviews.format(number=12))\n",
    "print(response)"
   ]
  },
  {
   "cell_type": "markdown",
   "id": "6eab2882-23e2-412c-afad-130a0f5be597",
   "metadata": {},
   "source": [
    "I am using this 'end' string at the end of each line so it is easier to separate the reviews "
   ]
  },
  {
   "cell_type": "code",
   "execution_count": 6,
   "id": "e0e36493",
   "metadata": {},
   "outputs": [],
   "source": [
    "#clean the text and store data to a dataframe\n",
    "response = response.replace('\\n', '')\n",
    "response = response.split(\"End\")\n",
    "\n",
    "house_reviews_df = pd.DataFrame()\n",
    "reviews=[]\n",
    "for review in response:\n",
    "    reviews.append(review)\n",
    "\n",
    "house_reviews_df['review'] = reviews\n",
    "house_reviews_df = house_reviews_df[:-1]"
   ]
  },
  {
   "cell_type": "code",
   "execution_count": 7,
   "id": "56dadd0f",
   "metadata": {},
   "outputs": [
    {
     "data": {
      "text/html": [
       "<div>\n",
       "<style scoped>\n",
       "    .dataframe tbody tr th:only-of-type {\n",
       "        vertical-align: middle;\n",
       "    }\n",
       "\n",
       "    .dataframe tbody tr th {\n",
       "        vertical-align: top;\n",
       "    }\n",
       "\n",
       "    .dataframe thead th {\n",
       "        text-align: right;\n",
       "    }\n",
       "</style>\n",
       "<table border=\"1\" class=\"dataframe\">\n",
       "  <thead>\n",
       "    <tr style=\"text-align: right;\">\n",
       "      <th></th>\n",
       "      <th>review</th>\n",
       "    </tr>\n",
       "  </thead>\n",
       "  <tbody>\n",
       "    <tr>\n",
       "      <th>0</th>\n",
       "      <td>Looking for the perfect luxury home in Uda-Cit...</td>\n",
       "    </tr>\n",
       "    <tr>\n",
       "      <th>1</th>\n",
       "      <td>Tired of the hustle and bustle of city life? L...</td>\n",
       "    </tr>\n",
       "    <tr>\n",
       "      <th>2</th>\n",
       "      <td>Located in the heart of Uda-City, the bustling...</td>\n",
       "    </tr>\n",
       "    <tr>\n",
       "      <th>3</th>\n",
       "      <td>Nestled in the prestigious neighborhood of Bel...</td>\n",
       "    </tr>\n",
       "    <tr>\n",
       "      <th>4</th>\n",
       "      <td>Escape to the tranquil neighborhood of Green V...</td>\n",
       "    </tr>\n",
       "    <tr>\n",
       "      <th>5</th>\n",
       "      <td>Looking for a modern and stylish home in Uda-C...</td>\n",
       "    </tr>\n",
       "    <tr>\n",
       "      <th>6</th>\n",
       "      <td>Experience the best of both worlds in the neig...</td>\n",
       "    </tr>\n",
       "    <tr>\n",
       "      <th>7</th>\n",
       "      <td>Nestled in the quiet and elegant neighborhood ...</td>\n",
       "    </tr>\n",
       "    <tr>\n",
       "      <th>8</th>\n",
       "      <td>Looking for a home with a view? Look no furthe...</td>\n",
       "    </tr>\n",
       "    <tr>\n",
       "      <th>9</th>\n",
       "      <td>Welcome to the luxurious neighborhood of Cryst...</td>\n",
       "    </tr>\n",
       "    <tr>\n",
       "      <th>10</th>\n",
       "      <td>Escape to the serene neighborhood of Oakwood M...</td>\n",
       "    </tr>\n",
       "    <tr>\n",
       "      <th>11</th>\n",
       "      <td>Experience the best of luxury living in the ex...</td>\n",
       "    </tr>\n",
       "  </tbody>\n",
       "</table>\n",
       "</div>"
      ],
      "text/plain": [
       "                                               review\n",
       "0   Looking for the perfect luxury home in Uda-Cit...\n",
       "1   Tired of the hustle and bustle of city life? L...\n",
       "2   Located in the heart of Uda-City, the bustling...\n",
       "3   Nestled in the prestigious neighborhood of Bel...\n",
       "4   Escape to the tranquil neighborhood of Green V...\n",
       "5   Looking for a modern and stylish home in Uda-C...\n",
       "6   Experience the best of both worlds in the neig...\n",
       "7   Nestled in the quiet and elegant neighborhood ...\n",
       "8   Looking for a home with a view? Look no furthe...\n",
       "9   Welcome to the luxurious neighborhood of Cryst...\n",
       "10  Escape to the serene neighborhood of Oakwood M...\n",
       "11  Experience the best of luxury living in the ex..."
      ]
     },
     "execution_count": 7,
     "metadata": {},
     "output_type": "execute_result"
    }
   ],
   "source": [
    "house_reviews_df"
   ]
  },
  {
   "cell_type": "code",
   "execution_count": 8,
   "id": "a1968221-d0e2-479e-aed9-0cfc3323322c",
   "metadata": {},
   "outputs": [],
   "source": [
    "# Export the listings\n",
    "house_reviews_df.to_csv('listings.csv')\n",
    "house_reviews_df.to_csv('listings.txt')"
   ]
  },
  {
   "cell_type": "markdown",
   "id": "71594d26-f16e-4597-818c-c8b74c538d2b",
   "metadata": {},
   "source": [
    "<h2> Chapter 2a: Store listings and query using ChromaDB"
   ]
  },
  {
   "cell_type": "code",
   "execution_count": 9,
   "id": "a500b8a1-c737-4eb2-a6cd-1d5429446cfc",
   "metadata": {},
   "outputs": [
    {
     "data": {
      "text/html": [
       "<div>\n",
       "<style scoped>\n",
       "    .dataframe tbody tr th:only-of-type {\n",
       "        vertical-align: middle;\n",
       "    }\n",
       "\n",
       "    .dataframe tbody tr th {\n",
       "        vertical-align: top;\n",
       "    }\n",
       "\n",
       "    .dataframe thead th {\n",
       "        text-align: right;\n",
       "    }\n",
       "</style>\n",
       "<table border=\"1\" class=\"dataframe\">\n",
       "  <thead>\n",
       "    <tr style=\"text-align: right;\">\n",
       "      <th></th>\n",
       "      <th>review</th>\n",
       "    </tr>\n",
       "  </thead>\n",
       "  <tbody>\n",
       "    <tr>\n",
       "      <th>0</th>\n",
       "      <td>Looking for the perfect luxury home in Uda-Cit...</td>\n",
       "    </tr>\n",
       "    <tr>\n",
       "      <th>1</th>\n",
       "      <td>Tired of the hustle and bustle of city life? L...</td>\n",
       "    </tr>\n",
       "    <tr>\n",
       "      <th>2</th>\n",
       "      <td>Located in the heart of Uda-City, the bustling...</td>\n",
       "    </tr>\n",
       "    <tr>\n",
       "      <th>3</th>\n",
       "      <td>Nestled in the prestigious neighborhood of Bel...</td>\n",
       "    </tr>\n",
       "    <tr>\n",
       "      <th>4</th>\n",
       "      <td>Escape to the tranquil neighborhood of Green V...</td>\n",
       "    </tr>\n",
       "  </tbody>\n",
       "</table>\n",
       "</div>"
      ],
      "text/plain": [
       "                                              review\n",
       "0  Looking for the perfect luxury home in Uda-Cit...\n",
       "1  Tired of the hustle and bustle of city life? L...\n",
       "2  Located in the heart of Uda-City, the bustling...\n",
       "3  Nestled in the prestigious neighborhood of Bel...\n",
       "4  Escape to the tranquil neighborhood of Green V..."
      ]
     },
     "execution_count": 9,
     "metadata": {},
     "output_type": "execute_result"
    }
   ],
   "source": [
    "house_reviews_df = pd.read_csv('listings.csv', index_col=0)\n",
    "house_reviews_df.head()"
   ]
  },
  {
   "cell_type": "code",
   "execution_count": 10,
   "id": "8e2e0251-ebfe-4656-b5c0-ccfc88d2c7a6",
   "metadata": {},
   "outputs": [],
   "source": [
    "openClient=openAI_client(api_key=api_key)\n",
    "client = chromadb.Client()\n",
    "\n",
    "openai_ef = embedding_functions.OpenAIEmbeddingFunction(\n",
    "                api_key=api_key,\n",
    "                model_name=\"text-embedding-ada-002\"\n",
    "            )\n",
    "try:\n",
    "    client.delete_collection(name=\"reviews\")\n",
    "except:\n",
    "    pass\n",
    "collection = client.create_collection(\"reviews\", embedding_function=openai_ef)"
   ]
  },
  {
   "cell_type": "code",
   "execution_count": 11,
   "id": "57648d74-856c-4290-b7ad-1b6d4ef4cdba",
   "metadata": {},
   "outputs": [],
   "source": [
    "collection.add(\n",
    "    ids=[str(i) for i in range(0, len(house_reviews_df))], \n",
    "    documents=house_reviews_df[\"review\"].to_list()\n",
    ")"
   ]
  },
  {
   "cell_type": "code",
   "execution_count": 12,
   "id": "d9607b9c-ebca-48d0-a19b-a55b11b1d8f7",
   "metadata": {},
   "outputs": [],
   "source": [
    "def text_embedding(text) -> None:\n",
    "    response = openClient.embeddings.create(model=\"text-embedding-ada-002\", input=text)\n",
    "    return response.data[0].embedding"
   ]
  },
  {
   "cell_type": "markdown",
   "id": "de8c6c9e-2f95-4f91-8077-264eaf34c18e",
   "metadata": {},
   "source": [
    "Lets test it with a small query"
   ]
  },
  {
   "cell_type": "code",
   "execution_count": 13,
   "id": "f667fa02-12ed-4ebf-9433-59f3e2a9bf44",
   "metadata": {},
   "outputs": [],
   "source": [
    "test_query = \"I would like to buy a house that has a pool\""
   ]
  },
  {
   "cell_type": "code",
   "execution_count": 14,
   "id": "cede6e7a-6a03-49f4-9b92-2a102c43eee2",
   "metadata": {},
   "outputs": [],
   "source": [
    "vector=text_embedding(test_query)"
   ]
  },
  {
   "cell_type": "code",
   "execution_count": 15,
   "id": "c3aa7fc4-4099-4388-9eff-d524597ea59a",
   "metadata": {},
   "outputs": [
    {
     "name": "stdout",
     "output_type": "stream",
     "text": [
      "Escape to the tranquil neighborhood of Green Valley, where this charming 4 bedroom, 2 bathroom home awaits you. Built in 2016, this home features a beautiful backyard with a pool and barbeque area, perfect for outdoor entertaining. The quiet surroundings and lush greenery make this a true oasis. Priced at $950,000, this is luxury living at its best. \n",
      "\n",
      "Experience the best of both worlds in the neighborhood of Riverside Retreat. This 5 bedroom, 3 bathroom home offers both stunning river views and easy access to the city. Built in 2017, this home boasts a spacious backyard with a pool and barbeque area, perfect for enjoying the outdoors. Priced at $1.2 million, this is luxury living at its finest. \n",
      "\n"
     ]
    }
   ],
   "source": [
    "for i in range(0,2):\n",
    "    print(collection.query(query_embeddings=vector, n_results=2)['documents'][0][i])\n",
    "    print('')"
   ]
  },
  {
   "cell_type": "markdown",
   "id": "2e51b79f-fe4a-4593-ba46-475c45948aa0",
   "metadata": {},
   "source": [
    "<h2> Chapter 2b: Store listings and query using FAISS database"
   ]
  },
  {
   "cell_type": "code",
   "execution_count": 16,
   "id": "24605b55-a22d-4957-bc30-0197613a8f00",
   "metadata": {},
   "outputs": [
    {
     "data": {
      "text/html": [
       "<div>\n",
       "<style scoped>\n",
       "    .dataframe tbody tr th:only-of-type {\n",
       "        vertical-align: middle;\n",
       "    }\n",
       "\n",
       "    .dataframe tbody tr th {\n",
       "        vertical-align: top;\n",
       "    }\n",
       "\n",
       "    .dataframe thead th {\n",
       "        text-align: right;\n",
       "    }\n",
       "</style>\n",
       "<table border=\"1\" class=\"dataframe\">\n",
       "  <thead>\n",
       "    <tr style=\"text-align: right;\">\n",
       "      <th></th>\n",
       "      <th>review</th>\n",
       "    </tr>\n",
       "  </thead>\n",
       "  <tbody>\n",
       "    <tr>\n",
       "      <th>0</th>\n",
       "      <td>Looking for the perfect luxury home in Uda-Cit...</td>\n",
       "    </tr>\n",
       "    <tr>\n",
       "      <th>1</th>\n",
       "      <td>Tired of the hustle and bustle of city life? L...</td>\n",
       "    </tr>\n",
       "    <tr>\n",
       "      <th>2</th>\n",
       "      <td>Located in the heart of Uda-City, the bustling...</td>\n",
       "    </tr>\n",
       "    <tr>\n",
       "      <th>3</th>\n",
       "      <td>Nestled in the prestigious neighborhood of Bel...</td>\n",
       "    </tr>\n",
       "    <tr>\n",
       "      <th>4</th>\n",
       "      <td>Escape to the tranquil neighborhood of Green V...</td>\n",
       "    </tr>\n",
       "  </tbody>\n",
       "</table>\n",
       "</div>"
      ],
      "text/plain": [
       "                                              review\n",
       "0  Looking for the perfect luxury home in Uda-Cit...\n",
       "1  Tired of the hustle and bustle of city life? L...\n",
       "2  Located in the heart of Uda-City, the bustling...\n",
       "3  Nestled in the prestigious neighborhood of Bel...\n",
       "4  Escape to the tranquil neighborhood of Green V..."
      ]
     },
     "execution_count": 16,
     "metadata": {},
     "output_type": "execute_result"
    }
   ],
   "source": [
    "house_reviews_df = pd.read_csv('listings.csv', index_col=0)\n",
    "house_reviews_df.head()"
   ]
  },
  {
   "cell_type": "code",
   "execution_count": 17,
   "id": "258b11e7-b900-4423-8e43-7a7558993c77",
   "metadata": {},
   "outputs": [],
   "source": [
    "loader = DataFrameLoader(house_reviews_df, page_content_column=\"review\")"
   ]
  },
  {
   "cell_type": "code",
   "execution_count": 18,
   "id": "c8a37293-03d9-4a84-82cd-d80a0ab203e1",
   "metadata": {},
   "outputs": [],
   "source": [
    "documents = loader.load()"
   ]
  },
  {
   "cell_type": "code",
   "execution_count": 19,
   "id": "bd873bb1-63cd-4d4c-9a6e-25e8a5a93f7f",
   "metadata": {},
   "outputs": [],
   "source": [
    "text_splitter = CharacterTextSplitter(chunk_size=100, chunk_overlap=0)\n",
    "docs = text_splitter.split_documents(documents)"
   ]
  },
  {
   "cell_type": "code",
   "execution_count": 20,
   "id": "3ac11717-4617-4fed-b4dc-61c24ed92aaa",
   "metadata": {},
   "outputs": [],
   "source": [
    "embeddings = OpenAIEmbeddings(api_key=api_key)"
   ]
  },
  {
   "cell_type": "code",
   "execution_count": 21,
   "id": "950a3504-b11e-4ac8-b412-6abe06a0d83e",
   "metadata": {},
   "outputs": [
    {
     "name": "stdout",
     "output_type": "stream",
     "text": [
      "12\n"
     ]
    }
   ],
   "source": [
    "db = FAISS.from_documents(docs, embeddings)\n",
    "print(db.index.ntotal)"
   ]
  },
  {
   "cell_type": "code",
   "execution_count": 22,
   "id": "ae396884-ba94-430e-b148-67ceea215497",
   "metadata": {},
   "outputs": [],
   "source": [
    "docs = db.similarity_search(test_query)"
   ]
  },
  {
   "cell_type": "code",
   "execution_count": 23,
   "id": "1c37d966-1f07-4ffb-8233-07939309ab52",
   "metadata": {},
   "outputs": [
    {
     "name": "stdout",
     "output_type": "stream",
     "text": [
      "Escape to the tranquil neighborhood of Green Valley, where this charming 4 bedroom, 2 bathroom home awaits you. Built in 2016, this home features a beautiful backyard with a pool and barbeque area, perfect for outdoor entertaining. The quiet surroundings and lush greenery make this a true oasis. Priced at $950,000, this is luxury living at its best.\n",
      " \n",
      "Experience the best of both worlds in the neighborhood of Riverside Retreat. This 5 bedroom, 3 bathroom home offers both stunning river views and easy access to the city. Built in 2017, this home boasts a spacious backyard with a pool and barbeque area, perfect for enjoying the outdoors. Priced at $1.2 million, this is luxury living at its finest.\n",
      " \n"
     ]
    }
   ],
   "source": [
    "for i in range(0,2):\n",
    "    print(docs[i].page_content)\n",
    "    print(' ')"
   ]
  },
  {
   "cell_type": "markdown",
   "id": "7da823a7-44c0-4c82-9b9a-4c43752602ed",
   "metadata": {},
   "source": [
    "Both vector databases (Chromedb and FAISS) seem to store succesfully the embeddings and return relevant results based on a simple test query for an estate with a pool. \n",
    "Next step is to create prompts and enhance the answers with LLM capabilities"
   ]
  },
  {
   "cell_type": "markdown",
   "id": "041eb7cb-2eeb-47bf-8356-df529a4d1575",
   "metadata": {},
   "source": [
    "<h2> Chapter 3: Augmented Response Generation"
   ]
  },
  {
   "cell_type": "markdown",
   "id": "c9454fbc-600b-4d9a-a258-9a1535d1bc83",
   "metadata": {},
   "source": [
    "I will be using the FAISS database for the response generator"
   ]
  },
  {
   "cell_type": "code",
   "execution_count": 24,
   "id": "5503e3af-9191-474d-9beb-2be85bcde715",
   "metadata": {},
   "outputs": [],
   "source": [
    "# Create prompt with context and example\n",
    "real_estate_prompt ='''\n",
    "context: You are an agent for real estate and you will be provided a set of house facilities and preferences by a user that wants to buy a house (for example a pool, or a nice view).\n",
    "Based on the users preferences provided you will have to describe a house based on the listings of the database in which house descriptions are stored. \n",
    "Here is a generic example and the way I want you to address similar queries:\n",
    "\n",
    "Example:\n",
    "[\n",
    "\n",
    "question and answer by the user:\n",
    "question = [   \n",
    "                \"Describe shortly the main features of your ideal house\"\n",
    "  ]\n",
    "answer = [\n",
    "    \"I would like to have several bathrooms. Fireplace is also a must. My budget is around 2 millions. \n",
    "    ]\n",
    "\n",
    "Your answer must contain an Original description from the context and then an augmented justification in order to pursuade the buyer that this is the house they are looking for. Here is an example of an answer you should give:\n",
    "\n",
    "1. Give the description based on the listings provided. You should not paraphrase anything, just give the original listing as it is:\n",
    "[Original description: \"Welcome to Platinum Heights, an exquisite 4-bed, 5-bath masterpiece built in 2020. With timeless design and top-notch craftsmanship, this home features a cozy fireplace, gourmet kitchen, and serene master suite. Priced at $1.6 million, it offers luxury living at its finest.\"]\n",
    "\n",
    "2. Provide a justification to support the description you provided before. In the justification feel free to augment the description, tailoring it to resonate with the buyer’s specific preferences. This involves subtly emphasizing aspects of the property that align with what the buyer is looking for:\n",
    "[The agents view and comments:\n",
    "Based on your preference description, I highly recommend considering this listing because it offers 5 bathrooms which is a feature you do want and it is not that common for any house. \n",
    "There is also a cozy wood-burning fireplace which I see is a must have feature for you. It is excellent decorated as it is stone-surrounded and elevates the house esteem. Finally it is alligned with your budget since it is priced at 1.6 million which is a fair price for a house of so much luxury and style]\n",
    "\n",
    "]\n",
    "\n",
    "Follow the above logic to address the following query of the new user:\n",
    "\n",
    "question = [   \n",
    "                \"Describe shortly the main features of your ideal house\"\n",
    "  ]\n",
    "answers = [\n",
    "    \"I would like {}. \n",
    "]\n",
    "\n",
    "'''"
   ]
  },
  {
   "cell_type": "code",
   "execution_count": 25,
   "id": "540f79b1-6f92-4368-ad9c-5841ee4e1e80",
   "metadata": {},
   "outputs": [],
   "source": [
    "user_1_prompt = real_estate_prompt.format(\"a nice pool. I would also like ideally a yard with barbecue facility. The budget should not exceed the 2 millions.\")\n",
    "user_2_prompt = real_estate_prompt.format(\"a house in order to escape the intense city life. Somewhere quiet and full of nature. We need relativelly small house with 2 bedrooms at a budget around 2 million\")\n",
    "user_3_prompt = real_estate_prompt.format(\"a luxury property, with many bedrooms somewhere around the Crystal Heights community\")"
   ]
  },
  {
   "cell_type": "markdown",
   "id": "e64ac1a8-a2d2-48ce-8637-d7ac2743fd1c",
   "metadata": {},
   "source": [
    "I will use the retrievalQA system. "
   ]
  },
  {
   "cell_type": "code",
   "execution_count": 26,
   "id": "25e1abfa-d3a0-479d-b407-21f6f05d6663",
   "metadata": {},
   "outputs": [],
   "source": [
    "# similar_docs = db.similarity_search(user_1_prompt, k=1)\n",
    "# prompt = PromptTemplate(\n",
    "#         template=\"{query}\\nContext: {context}\",\n",
    "#         input_variables=[\"query\", \"context\"],\n",
    "#     )\n",
    "# chain = load_qa_chain(llm, prompt = prompt, chain_type=\"stuff\")\n",
    "# print(chain.run(input_documents=similar_docs, query = user_1_prompt))\n",
    "\n",
    "\n",
    "temperature = 1\n",
    "llm = OpenAI(model=model, temperature=temperature, max_tokens = 3000, openai_api_key=api_key)\n",
    "rag = RetrievalQA.from_chain_type(llm=llm, chain_type=\"stuff\", retriever=db.as_retriever())"
   ]
  },
  {
   "cell_type": "code",
   "execution_count": 27,
   "id": "570344b9-dd7e-4850-8c96-e9cb0a7f148c",
   "metadata": {},
   "outputs": [
    {
     "name": "stderr",
     "output_type": "stream",
     "text": [
      "C:\\Anaconda3\\envs\\udacity\\lib\\site-packages\\langchain_core\\_api\\deprecation.py:117: LangChainDeprecationWarning: The function `run` was deprecated in LangChain 0.1.0 and will be removed in 0.2.0. Use invoke instead.\n",
      "  warn_deprecated(\n"
     ]
    },
    {
     "name": "stdout",
     "output_type": "stream",
     "text": [
      "\n",
      "Original description: \"Experience the best of luxury living in the exclusive neighborhood of Skyline Heights. This stunning 5 bedroom, 3 bathroom mansion was built in 2018 and boasts high-end finishes and top-of-the-line appliances. The spacious backyard features a sparkling pool, perfect for cooling off on hot summer days, and a built-in barbeque for entertaining guests. With breathtaking views of the city, this house truly has it all at a price of $1.1 million.\"\n",
      "\n",
      "Based on your preferences, I highly recommend this listing in Skyline Heights. Not only does it have a stunning pool, but the backyard also includes a built-in barbeque, making it the ideal location for outdoor gatherings and events. The house itself was built in 2018 and offers state-of-the-art amenities, including top-of-the-line appliances and high-end finishes. Its price of $1.1 million is well within your budget while still providing the luxurious features you desire. Plus, the beautiful views of the city only add to the appeal of this house. Overall, I believe this listing perfectly aligns with your ideal house preferences.\n"
     ]
    }
   ],
   "source": [
    "print(rag.run(user_1_prompt))"
   ]
  },
  {
   "cell_type": "code",
   "execution_count": 30,
   "id": "60c6cba0-ac02-4285-b48d-ccb3b495e469",
   "metadata": {},
   "outputs": [
    {
     "name": "stdout",
     "output_type": "stream",
     "text": [
      "\n",
      "[Original description: \"Escape the hustle and bustle of city life and find solace in this charming 2-bedroom home situated in the tranquil neighborhood of Serenity Valley. Surrounded by lush greenery, this cozy abode offers the perfect opportunity to reconnect with nature. Priced under $2 million, this is an ideal retreat for those seeking peace and quiet.\"]\n",
      "\n",
      "[The agent's view and comments: Based on your preference description, I highly recommend considering this listing. It is located in the serene neighborhood of Serenity Valley, where you can escape the intensity of the city and find a peaceful retreat. Surrounded by beautiful nature, this house offers a tranquil atmosphere that will surely meet your need for peace and quiet. Additionally, it is a relatively small house with 2 bedrooms, perfectly fitting your needs. And the best part, it falls under your budget of $2 million. Don't miss the chance to have your perfect getaway home.]\n"
     ]
    }
   ],
   "source": [
    "print(rag.run(user_2_prompt))"
   ]
  },
  {
   "cell_type": "code",
   "execution_count": 31,
   "id": "3feec9c2-a1b5-4fcc-89d8-5f8865138aab",
   "metadata": {},
   "outputs": [
    {
     "name": "stdout",
     "output_type": "stream",
     "text": [
      "\n",
      "\n",
      "[Original description: \"Welcome to the luxurious neighborhood of Crystal Heights, where this magnificent 6 bedroom, 3 bathroom estate awaits you. Built in 2020, this home offers top-of-the-line amenities such as a home theater, wine cellar, and a private elevator. The backyard features a stunning pool and spa, and a built-in barbeque for outdoor gatherings. Priced at $2.7 million, this is the epitome of luxury living in Uda-City.\"]\n",
      "\n",
      "[The agents view and comments:\n",
      "Based on your preference description, I highly recommend considering this listing in Crystal Heights as it offers 6 spacious bedrooms and 3 bathrooms, perfect for a large family or accommodating guests. It also features a home theater and wine cellar, aligned with your desire for a luxury property. The backyard boasts a beautiful pool and spa, as well as a built-in barbeque for entertaining. All of this for a price of $2.7 million, showcasing the epitome of luxury living in Uda-City. Crystal Heights is known for its exclusive and prestigious community, making it the perfect location for your dream home.]\n"
     ]
    }
   ],
   "source": [
    "print(rag.run(user_3_prompt))"
   ]
  },
  {
   "cell_type": "code",
   "execution_count": null,
   "id": "a7779bc0-852c-4c95-addf-39df1110bfdb",
   "metadata": {},
   "outputs": [],
   "source": []
  }
 ],
 "metadata": {
  "kernelspec": {
   "display_name": "Python 3 (ipykernel)",
   "language": "python",
   "name": "python3"
  },
  "language_info": {
   "codemirror_mode": {
    "name": "ipython",
    "version": 3
   },
   "file_extension": ".py",
   "mimetype": "text/x-python",
   "name": "python",
   "nbconvert_exporter": "python",
   "pygments_lexer": "ipython3",
   "version": "3.9.19"
  }
 },
 "nbformat": 4,
 "nbformat_minor": 5
}
